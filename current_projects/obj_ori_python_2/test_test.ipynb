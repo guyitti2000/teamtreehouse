{
 "cells": [
  {
   "cell_type": "code",
   "execution_count": 99,
   "id": "61916af5",
   "metadata": {},
   "outputs": [
    {
     "name": "stdout",
     "output_type": "stream",
     "text": [
      "<__main__.Warrior object at 0x10be74b80>\n",
      "False\n",
      "False\n",
      "Kenneth\n"
     ]
    }
   ],
   "source": [
    "import random\n",
    "\n",
    "class Warrior:\n",
    "    rage = 100\n",
    "    \n",
    "    def thunderclap(self):\n",
    "        if rage > 30:\n",
    "            return bool(random.randint(0,1))\n",
    "        return False\n",
    "    \n",
    "class Rogue:\n",
    "    sneaky = True\n",
    "    \n",
    "    def __init__(self, name, sneaky=True, **kwargs):\n",
    "        self.name = name\n",
    "        self.sneaky = sneaky\n",
    "        \n",
    "        for key, value in kwargs.items():\n",
    "            setattr(self, key, value)\n",
    "    \n",
    "    \n",
    "    def pickpocket(self):\n",
    "        return self.sneaky and bool(random.randint(0,1))\n",
    "    \n",
    "    def hide(self, light_level):\n",
    "        return self.sneaky and light_level < 10\n",
    "    \n",
    "    \n",
    "garth = Warrior()\n",
    "print(garth)\n",
    "\n",
    "kenneth = Rogue(\"Kenneth\")\n",
    "print(kenneth.pickpocket())\n",
    "print(kenneth.hide(14))\n",
    "print(kenneth.name)\n",
    "\n",
    "    "
   ]
  },
  {
   "cell_type": "code",
   "execution_count": null,
   "id": "c344e02b",
   "metadata": {},
   "outputs": [],
   "source": []
  }
 ],
 "metadata": {
  "kernelspec": {
   "display_name": "Python 3",
   "language": "python",
   "name": "python3"
  },
  "language_info": {
   "codemirror_mode": {
    "name": "ipython",
    "version": 3
   },
   "file_extension": ".py",
   "mimetype": "text/x-python",
   "name": "python",
   "nbconvert_exporter": "python",
   "pygments_lexer": "ipython3",
   "version": "3.9.5"
  }
 },
 "nbformat": 4,
 "nbformat_minor": 5
}
